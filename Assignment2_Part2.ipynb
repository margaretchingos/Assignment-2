{
 "cells": [
  {
   "cell_type": "markdown",
   "metadata": {},
   "source": [
    "## Lab Assignment 2: Part 2 Pandas and NumPy\n",
    "#### Margaret Chingos | 220000060\n",
    "#### Github link: https://github.com/margaretchingos/Assignment-2/tree/main?tab=readme-ov-file#assignment-2\n"
   ]
  },
  {
   "cell_type": "markdown",
   "metadata": {},
   "source": [
    "#### Run this cell to connect to your GIS and get started:"
   ]
  },
  {
   "cell_type": "code",
   "execution_count": 1,
   "metadata": {},
   "outputs": [],
   "source": [
    "from arcgis.gis import GIS\n",
    "gis = GIS(\"home\")"
   ]
  },
  {
   "cell_type": "markdown",
   "metadata": {},
   "source": [
    "#### Importing libraries and Data"
   ]
  },
  {
   "cell_type": "code",
   "execution_count": 40,
   "metadata": {},
   "outputs": [],
   "source": [
    "#Import libraries \n",
    "import numpy as np\n",
    "import pandas as pd"
   ]
  },
  {
   "cell_type": "code",
   "execution_count": 21,
   "metadata": {},
   "outputs": [
    {
     "data": {
      "text/html": [
       "<div>\n",
       "<style scoped>\n",
       "    .dataframe tbody tr th:only-of-type {\n",
       "        vertical-align: middle;\n",
       "    }\n",
       "\n",
       "    .dataframe tbody tr th {\n",
       "        vertical-align: top;\n",
       "    }\n",
       "\n",
       "    .dataframe thead th {\n",
       "        text-align: right;\n",
       "    }\n",
       "</style>\n",
       "<table border=\"1\" class=\"dataframe\">\n",
       "  <thead>\n",
       "    <tr style=\"text-align: right;\">\n",
       "      <th></th>\n",
       "      <th>fid</th>\n",
       "      <th>OBJECTID</th>\n",
       "      <th>Inventory_</th>\n",
       "      <th>Species</th>\n",
       "      <th>DBH</th>\n",
       "      <th>Condition</th>\n",
       "      <th>TreeHeight</th>\n",
       "      <th>CrownWidth</th>\n",
       "      <th>CrownWid_1</th>\n",
       "      <th>CollectedB</th>\n",
       "      <th>...</th>\n",
       "      <th>Genus</th>\n",
       "      <th>Common_nam</th>\n",
       "      <th>Genus_spec</th>\n",
       "      <th>Functional</th>\n",
       "      <th>Size</th>\n",
       "      <th>Native</th>\n",
       "      <th>Edible</th>\n",
       "      <th>Nuisance</th>\n",
       "      <th>Origin</th>\n",
       "      <th>Species_fa</th>\n",
       "    </tr>\n",
       "  </thead>\n",
       "  <tbody>\n",
       "    <tr>\n",
       "      <th>0</th>\n",
       "      <td>1</td>\n",
       "      <td>426</td>\n",
       "      <td>2017/05/09</td>\n",
       "      <td>PSME</td>\n",
       "      <td>37.4</td>\n",
       "      <td>Fair</td>\n",
       "      <td>105.0</td>\n",
       "      <td>44.0</td>\n",
       "      <td>57.0</td>\n",
       "      <td>staff</td>\n",
       "      <td>...</td>\n",
       "      <td>Pseudotsuga</td>\n",
       "      <td>Douglas-fir</td>\n",
       "      <td>Pseudotsuga menziesii</td>\n",
       "      <td>CE</td>\n",
       "      <td>L</td>\n",
       "      <td>Yes</td>\n",
       "      <td>NaN</td>\n",
       "      <td>NaN</td>\n",
       "      <td>North America - from British Columbia south to...</td>\n",
       "      <td>Bracts on cones look like a mouse's feet and t...</td>\n",
       "    </tr>\n",
       "    <tr>\n",
       "      <th>1</th>\n",
       "      <td>2</td>\n",
       "      <td>427</td>\n",
       "      <td>2017/05/09</td>\n",
       "      <td>PSME</td>\n",
       "      <td>32.5</td>\n",
       "      <td>Fair</td>\n",
       "      <td>94.0</td>\n",
       "      <td>49.0</td>\n",
       "      <td>45.0</td>\n",
       "      <td>staff</td>\n",
       "      <td>...</td>\n",
       "      <td>Pseudotsuga</td>\n",
       "      <td>Douglas-fir</td>\n",
       "      <td>Pseudotsuga menziesii</td>\n",
       "      <td>CE</td>\n",
       "      <td>L</td>\n",
       "      <td>Yes</td>\n",
       "      <td>NaN</td>\n",
       "      <td>NaN</td>\n",
       "      <td>North America - from British Columbia south to...</td>\n",
       "      <td>Bracts on cones look like a mouse's feet and t...</td>\n",
       "    </tr>\n",
       "    <tr>\n",
       "      <th>2</th>\n",
       "      <td>3</td>\n",
       "      <td>428</td>\n",
       "      <td>2017/05/09</td>\n",
       "      <td>CRLA</td>\n",
       "      <td>9.7</td>\n",
       "      <td>Fair</td>\n",
       "      <td>23.0</td>\n",
       "      <td>28.0</td>\n",
       "      <td>27.0</td>\n",
       "      <td>staff</td>\n",
       "      <td>...</td>\n",
       "      <td>Crataegus</td>\n",
       "      <td>Lavalle hawthorn</td>\n",
       "      <td>Crataegus x lavalleei</td>\n",
       "      <td>BD</td>\n",
       "      <td>S</td>\n",
       "      <td>No</td>\n",
       "      <td>NaN</td>\n",
       "      <td>NaN</td>\n",
       "      <td>North America - a hybrid between a Mexican and...</td>\n",
       "      <td>Like most hawthorns, the tree has stout thorns...</td>\n",
       "    </tr>\n",
       "    <tr>\n",
       "      <th>3</th>\n",
       "      <td>4</td>\n",
       "      <td>429</td>\n",
       "      <td>2017/05/09</td>\n",
       "      <td>QURU</td>\n",
       "      <td>10.3</td>\n",
       "      <td>Poor</td>\n",
       "      <td>28.0</td>\n",
       "      <td>38.0</td>\n",
       "      <td>31.0</td>\n",
       "      <td>staff</td>\n",
       "      <td>...</td>\n",
       "      <td>Quercus</td>\n",
       "      <td>northern red oak</td>\n",
       "      <td>Quercus rubra</td>\n",
       "      <td>BD</td>\n",
       "      <td>L</td>\n",
       "      <td>No</td>\n",
       "      <td>NaN</td>\n",
       "      <td>NaN</td>\n",
       "      <td>North America - eastern Canada and eastern USA...</td>\n",
       "      <td>Acorns take two years to mature and are an imp...</td>\n",
       "    </tr>\n",
       "    <tr>\n",
       "      <th>4</th>\n",
       "      <td>5</td>\n",
       "      <td>430</td>\n",
       "      <td>2017/05/09</td>\n",
       "      <td>PSME</td>\n",
       "      <td>33.2</td>\n",
       "      <td>Fair</td>\n",
       "      <td>102.0</td>\n",
       "      <td>43.0</td>\n",
       "      <td>44.0</td>\n",
       "      <td>staff</td>\n",
       "      <td>...</td>\n",
       "      <td>Pseudotsuga</td>\n",
       "      <td>Douglas-fir</td>\n",
       "      <td>Pseudotsuga menziesii</td>\n",
       "      <td>CE</td>\n",
       "      <td>L</td>\n",
       "      <td>Yes</td>\n",
       "      <td>NaN</td>\n",
       "      <td>NaN</td>\n",
       "      <td>North America - from British Columbia south to...</td>\n",
       "      <td>Bracts on cones look like a mouse's feet and t...</td>\n",
       "    </tr>\n",
       "  </tbody>\n",
       "</table>\n",
       "<p>5 rows × 40 columns</p>\n",
       "</div>"
      ],
      "text/plain": [
       "   fid  OBJECTID  Inventory_ Species   DBH Condition  TreeHeight  CrownWidth  \\\n",
       "0    1       426  2017/05/09    PSME  37.4      Fair       105.0        44.0   \n",
       "1    2       427  2017/05/09    PSME  32.5      Fair        94.0        49.0   \n",
       "2    3       428  2017/05/09    CRLA   9.7      Fair        23.0        28.0   \n",
       "3    4       429  2017/05/09    QURU  10.3      Poor        28.0        38.0   \n",
       "4    5       430  2017/05/09    PSME  33.2      Fair       102.0        43.0   \n",
       "\n",
       "   CrownWid_1 CollectedB  ...        Genus        Common_nam  \\\n",
       "0        57.0      staff  ...  Pseudotsuga       Douglas-fir   \n",
       "1        45.0      staff  ...  Pseudotsuga       Douglas-fir   \n",
       "2        27.0      staff  ...    Crataegus  Lavalle hawthorn   \n",
       "3        31.0      staff  ...      Quercus  northern red oak   \n",
       "4        44.0      staff  ...  Pseudotsuga       Douglas-fir   \n",
       "\n",
       "              Genus_spec Functional Size Native Edible Nuisance  \\\n",
       "0  Pseudotsuga menziesii         CE    L    Yes    NaN      NaN   \n",
       "1  Pseudotsuga menziesii         CE    L    Yes    NaN      NaN   \n",
       "2  Crataegus x lavalleei         BD    S     No    NaN      NaN   \n",
       "3          Quercus rubra         BD    L     No    NaN      NaN   \n",
       "4  Pseudotsuga menziesii         CE    L    Yes    NaN      NaN   \n",
       "\n",
       "                                              Origin  \\\n",
       "0  North America - from British Columbia south to...   \n",
       "1  North America - from British Columbia south to...   \n",
       "2  North America - a hybrid between a Mexican and...   \n",
       "3  North America - eastern Canada and eastern USA...   \n",
       "4  North America - from British Columbia south to...   \n",
       "\n",
       "                                          Species_fa  \n",
       "0  Bracts on cones look like a mouse's feet and t...  \n",
       "1  Bracts on cones look like a mouse's feet and t...  \n",
       "2  Like most hawthorns, the tree has stout thorns...  \n",
       "3  Acorns take two years to mature and are an imp...  \n",
       "4  Bracts on cones look like a mouse's feet and t...  \n",
       "\n",
       "[5 rows x 40 columns]"
      ]
     },
     "execution_count": 21,
     "metadata": {},
     "output_type": "execute_result"
    }
   ],
   "source": [
    "#Import data with pandas\n",
    "df = pd.read_csv('/arcgis/home/Assignment 2/portland_park_trees.csv')\n",
    "#preview first 5 rows of data\n",
    "df.head()"
   ]
  },
  {
   "cell_type": "markdown",
   "metadata": {},
   "source": [
    "#### Question 1: How many trees are of the Quercus or Acer genus?"
   ]
  },
  {
   "cell_type": "code",
   "execution_count": 25,
   "metadata": {},
   "outputs": [
    {
     "name": "stdout",
     "output_type": "stream",
     "text": [
      "3586\n"
     ]
    }
   ],
   "source": [
    "#Query the dataframe for trees of either Quercus or Acer genus\n",
    "Quercus_Acer = df.query('Genus==\"Quercus\"' or 'Genus ==\"Acer\"') \n",
    "#print the length (number of trees with specified genus)\n",
    "print(len(Quercus_Acer))"
   ]
  },
  {
   "cell_type": "code",
   "execution_count": 26,
   "metadata": {},
   "outputs": [
    {
     "data": {
      "text/plain": [
       "(25534, 40)"
      ]
     },
     "execution_count": 26,
     "metadata": {},
     "output_type": "execute_result"
    }
   ],
   "source": [
    "#check the number of trees in the dataset to see if my query was reasonable\n",
    "df.shape"
   ]
  },
  {
   "cell_type": "markdown",
   "metadata": {},
   "source": [
    "#### Question 2:  How many trees are of the Quercus or Acer genus and have a DBH larger than 50 inches?"
   ]
  },
  {
   "cell_type": "code",
   "execution_count": 28,
   "metadata": {},
   "outputs": [
    {
     "name": "stdout",
     "output_type": "stream",
     "text": [
      "44\n"
     ]
    }
   ],
   "source": [
    "#query pre-defined dataframe with just Quercus and Acer trees for trees with a DBH greater than 50\n",
    "x = Quercus_Acer.query('DBH>50')\n",
    "#Print the length (number) of specified trees\n",
    "print(len(x))"
   ]
  },
  {
   "cell_type": "markdown",
   "metadata": {},
   "source": [
    "#### Question 3: Which genus has the highest mean DBH of the following genera: Quercus, Acer, or Fraxinus?"
   ]
  },
  {
   "cell_type": "code",
   "execution_count": 34,
   "metadata": {},
   "outputs": [
    {
     "name": "stdout",
     "output_type": "stream",
     "text": [
      "23.56823839157492\n",
      "18.419085331846066\n",
      "11.033609693877551\n",
      "Quercus has the highest mean DBH!\n"
     ]
    }
   ],
   "source": [
    "quercus = df.query('Genus == \"Quercus\"') #query the dataframe to create a subset of trees with the genus Quercus\n",
    "quercus_mean = quercus[\"DBH\"].mean() #find the mean of the DBH for trees with the genus quercus, specified in previous line of code\n",
    "print(quercus_mean) \n",
    "\n",
    "acer = df.query('Genus == \"Acer\"') #repeat with genus Acer\n",
    "acer_mean = acer[\"DBH\"].mean()\n",
    "print(acer_mean)\n",
    "\n",
    "fraxinus = df.query('Genus == \"Fraxinus\"') #repeat with genus Fraxinus\n",
    "fraxinus_mean = fraxinus[\"DBH\"].mean()\n",
    "print(fraxinus_mean)\n",
    "\n",
    "print(\"Quercus has the highest mean DBH!\")"
   ]
  },
  {
   "cell_type": "markdown",
   "metadata": {},
   "source": [
    "#### Question 4:  How many different species of trees are recorded in the Acer genus?"
   ]
  },
  {
   "cell_type": "code",
   "execution_count": 47,
   "metadata": {},
   "outputs": [
    {
     "name": "stdout",
     "output_type": "stream",
     "text": [
      "20\n"
     ]
    }
   ],
   "source": [
    "acer = df.query('Genus == \"Acer\"') #query the dataframe to create a subset of trees with the genus Acer\n",
    "acer_species = acer['Species'] #create a second subset to look at just species within the genus Acer\n",
    "\n",
    "x = acer_species.unique() #identify how many unique (different) species types there are in the Acer genus\n",
    "print(len(x)) #print the length(number) of unique species \n"
   ]
  },
  {
   "cell_type": "markdown",
   "metadata": {},
   "source": [
    "#### Question 5:  Using world_cities.csv answer the following questions:"
   ]
  },
  {
   "cell_type": "code",
   "execution_count": 75,
   "metadata": {},
   "outputs": [
    {
     "data": {
      "text/html": [
       "<div>\n",
       "<style scoped>\n",
       "    .dataframe tbody tr th:only-of-type {\n",
       "        vertical-align: middle;\n",
       "    }\n",
       "\n",
       "    .dataframe tbody tr th {\n",
       "        vertical-align: top;\n",
       "    }\n",
       "\n",
       "    .dataframe thead th {\n",
       "        text-align: right;\n",
       "    }\n",
       "</style>\n",
       "<table border=\"1\" class=\"dataframe\">\n",
       "  <thead>\n",
       "    <tr style=\"text-align: right;\">\n",
       "      <th></th>\n",
       "      <th>country</th>\n",
       "      <th>pop</th>\n",
       "      <th>lat</th>\n",
       "      <th>lon</th>\n",
       "      <th>capital</th>\n",
       "    </tr>\n",
       "    <tr>\n",
       "      <th>city</th>\n",
       "      <th></th>\n",
       "      <th></th>\n",
       "      <th></th>\n",
       "      <th></th>\n",
       "      <th></th>\n",
       "    </tr>\n",
       "  </thead>\n",
       "  <tbody>\n",
       "    <tr>\n",
       "      <th>'Abasan al-Jadidah</th>\n",
       "      <td>Palestine</td>\n",
       "      <td>5629</td>\n",
       "      <td>31.31</td>\n",
       "      <td>34.34</td>\n",
       "      <td>0</td>\n",
       "    </tr>\n",
       "    <tr>\n",
       "      <th>'Abasan al-Kabirah</th>\n",
       "      <td>Palestine</td>\n",
       "      <td>18999</td>\n",
       "      <td>31.32</td>\n",
       "      <td>34.35</td>\n",
       "      <td>0</td>\n",
       "    </tr>\n",
       "    <tr>\n",
       "      <th>'Abdul Hakim</th>\n",
       "      <td>Pakistan</td>\n",
       "      <td>47788</td>\n",
       "      <td>30.55</td>\n",
       "      <td>72.11</td>\n",
       "      <td>0</td>\n",
       "    </tr>\n",
       "    <tr>\n",
       "      <th>'Abdullah-as-Salam</th>\n",
       "      <td>Kuwait</td>\n",
       "      <td>21817</td>\n",
       "      <td>29.36</td>\n",
       "      <td>47.98</td>\n",
       "      <td>0</td>\n",
       "    </tr>\n",
       "    <tr>\n",
       "      <th>'Abud</th>\n",
       "      <td>Palestine</td>\n",
       "      <td>2456</td>\n",
       "      <td>32.03</td>\n",
       "      <td>35.07</td>\n",
       "      <td>0</td>\n",
       "    </tr>\n",
       "  </tbody>\n",
       "</table>\n",
       "</div>"
      ],
      "text/plain": [
       "                      country    pop    lat    lon  capital\n",
       "city                                                       \n",
       "'Abasan al-Jadidah  Palestine   5629  31.31  34.34        0\n",
       "'Abasan al-Kabirah  Palestine  18999  31.32  34.35        0\n",
       "'Abdul Hakim         Pakistan  47788  30.55  72.11        0\n",
       "'Abdullah-as-Salam     Kuwait  21817  29.36  47.98        0\n",
       "'Abud               Palestine   2456  32.03  35.07        0"
      ]
     },
     "execution_count": 75,
     "metadata": {},
     "output_type": "execute_result"
    }
   ],
   "source": [
    "#Import the data with pandas\n",
    "cities = pd.read_csv('/arcgis/home/Assignment 2/world_cities.csv', index_col=0) #set column 0 to be the index\n",
    "#preview first 5 rows of data\n",
    "cities.head()"
   ]
  },
  {
   "cell_type": "markdown",
   "metadata": {},
   "source": [
    "##### • Calculate a new column named \"pop_M\" (population in millions), by transforming the \"pop\" (population) column."
   ]
  },
  {
   "cell_type": "code",
   "execution_count": 76,
   "metadata": {},
   "outputs": [
    {
     "data": {
      "text/html": [
       "<div>\n",
       "<style scoped>\n",
       "    .dataframe tbody tr th:only-of-type {\n",
       "        vertical-align: middle;\n",
       "    }\n",
       "\n",
       "    .dataframe tbody tr th {\n",
       "        vertical-align: top;\n",
       "    }\n",
       "\n",
       "    .dataframe thead th {\n",
       "        text-align: right;\n",
       "    }\n",
       "</style>\n",
       "<table border=\"1\" class=\"dataframe\">\n",
       "  <thead>\n",
       "    <tr style=\"text-align: right;\">\n",
       "      <th></th>\n",
       "      <th>country</th>\n",
       "      <th>pop</th>\n",
       "      <th>lat</th>\n",
       "      <th>lon</th>\n",
       "      <th>capital</th>\n",
       "      <th>pop_M</th>\n",
       "    </tr>\n",
       "    <tr>\n",
       "      <th>city</th>\n",
       "      <th></th>\n",
       "      <th></th>\n",
       "      <th></th>\n",
       "      <th></th>\n",
       "      <th></th>\n",
       "      <th></th>\n",
       "    </tr>\n",
       "  </thead>\n",
       "  <tbody>\n",
       "    <tr>\n",
       "      <th>'Abasan al-Jadidah</th>\n",
       "      <td>Palestine</td>\n",
       "      <td>5629</td>\n",
       "      <td>31.31</td>\n",
       "      <td>34.34</td>\n",
       "      <td>0</td>\n",
       "      <td>0.005629</td>\n",
       "    </tr>\n",
       "    <tr>\n",
       "      <th>'Abasan al-Kabirah</th>\n",
       "      <td>Palestine</td>\n",
       "      <td>18999</td>\n",
       "      <td>31.32</td>\n",
       "      <td>34.35</td>\n",
       "      <td>0</td>\n",
       "      <td>0.018999</td>\n",
       "    </tr>\n",
       "    <tr>\n",
       "      <th>'Abdul Hakim</th>\n",
       "      <td>Pakistan</td>\n",
       "      <td>47788</td>\n",
       "      <td>30.55</td>\n",
       "      <td>72.11</td>\n",
       "      <td>0</td>\n",
       "      <td>0.047788</td>\n",
       "    </tr>\n",
       "    <tr>\n",
       "      <th>'Abdullah-as-Salam</th>\n",
       "      <td>Kuwait</td>\n",
       "      <td>21817</td>\n",
       "      <td>29.36</td>\n",
       "      <td>47.98</td>\n",
       "      <td>0</td>\n",
       "      <td>0.021817</td>\n",
       "    </tr>\n",
       "    <tr>\n",
       "      <th>'Abud</th>\n",
       "      <td>Palestine</td>\n",
       "      <td>2456</td>\n",
       "      <td>32.03</td>\n",
       "      <td>35.07</td>\n",
       "      <td>0</td>\n",
       "      <td>0.002456</td>\n",
       "    </tr>\n",
       "  </tbody>\n",
       "</table>\n",
       "</div>"
      ],
      "text/plain": [
       "                      country    pop    lat    lon  capital     pop_M\n",
       "city                                                                 \n",
       "'Abasan al-Jadidah  Palestine   5629  31.31  34.34        0  0.005629\n",
       "'Abasan al-Kabirah  Palestine  18999  31.32  34.35        0  0.018999\n",
       "'Abdul Hakim         Pakistan  47788  30.55  72.11        0  0.047788\n",
       "'Abdullah-as-Salam     Kuwait  21817  29.36  47.98        0  0.021817\n",
       "'Abud               Palestine   2456  32.03  35.07        0  0.002456"
      ]
     },
     "execution_count": 76,
     "metadata": {},
     "output_type": "execute_result"
    }
   ],
   "source": [
    "cities['pop_M'] = cities[\"pop\"] / 1000000 #create a new column called pop_M that divides pop by 1 million\n",
    "cities.head() #check to see if column was added"
   ]
  },
  {
   "cell_type": "markdown",
   "metadata": {},
   "source": [
    "##### • Remove the original \"pop\" column."
   ]
  },
  {
   "cell_type": "code",
   "execution_count": 77,
   "metadata": {},
   "outputs": [
    {
     "data": {
      "text/html": [
       "<div>\n",
       "<style scoped>\n",
       "    .dataframe tbody tr th:only-of-type {\n",
       "        vertical-align: middle;\n",
       "    }\n",
       "\n",
       "    .dataframe tbody tr th {\n",
       "        vertical-align: top;\n",
       "    }\n",
       "\n",
       "    .dataframe thead th {\n",
       "        text-align: right;\n",
       "    }\n",
       "</style>\n",
       "<table border=\"1\" class=\"dataframe\">\n",
       "  <thead>\n",
       "    <tr style=\"text-align: right;\">\n",
       "      <th></th>\n",
       "      <th>country</th>\n",
       "      <th>lat</th>\n",
       "      <th>lon</th>\n",
       "      <th>capital</th>\n",
       "      <th>pop_M</th>\n",
       "    </tr>\n",
       "    <tr>\n",
       "      <th>city</th>\n",
       "      <th></th>\n",
       "      <th></th>\n",
       "      <th></th>\n",
       "      <th></th>\n",
       "      <th></th>\n",
       "    </tr>\n",
       "  </thead>\n",
       "  <tbody>\n",
       "    <tr>\n",
       "      <th>'Abasan al-Jadidah</th>\n",
       "      <td>Palestine</td>\n",
       "      <td>31.31</td>\n",
       "      <td>34.34</td>\n",
       "      <td>0</td>\n",
       "      <td>0.005629</td>\n",
       "    </tr>\n",
       "    <tr>\n",
       "      <th>'Abasan al-Kabirah</th>\n",
       "      <td>Palestine</td>\n",
       "      <td>31.32</td>\n",
       "      <td>34.35</td>\n",
       "      <td>0</td>\n",
       "      <td>0.018999</td>\n",
       "    </tr>\n",
       "    <tr>\n",
       "      <th>'Abdul Hakim</th>\n",
       "      <td>Pakistan</td>\n",
       "      <td>30.55</td>\n",
       "      <td>72.11</td>\n",
       "      <td>0</td>\n",
       "      <td>0.047788</td>\n",
       "    </tr>\n",
       "    <tr>\n",
       "      <th>'Abdullah-as-Salam</th>\n",
       "      <td>Kuwait</td>\n",
       "      <td>29.36</td>\n",
       "      <td>47.98</td>\n",
       "      <td>0</td>\n",
       "      <td>0.021817</td>\n",
       "    </tr>\n",
       "    <tr>\n",
       "      <th>'Abud</th>\n",
       "      <td>Palestine</td>\n",
       "      <td>32.03</td>\n",
       "      <td>35.07</td>\n",
       "      <td>0</td>\n",
       "      <td>0.002456</td>\n",
       "    </tr>\n",
       "  </tbody>\n",
       "</table>\n",
       "</div>"
      ],
      "text/plain": [
       "                      country    lat    lon  capital     pop_M\n",
       "city                                                          \n",
       "'Abasan al-Jadidah  Palestine  31.31  34.34        0  0.005629\n",
       "'Abasan al-Kabirah  Palestine  31.32  34.35        0  0.018999\n",
       "'Abdul Hakim         Pakistan  30.55  72.11        0  0.047788\n",
       "'Abdullah-as-Salam     Kuwait  29.36  47.98        0  0.021817\n",
       "'Abud               Palestine  32.03  35.07        0  0.002456"
      ]
     },
     "execution_count": 77,
     "metadata": {},
     "output_type": "execute_result"
    }
   ],
   "source": [
    "cities.pop('pop')\n",
    "cities.head() #check to make sure the pop column is no longer in cities"
   ]
  },
  {
   "cell_type": "markdown",
   "metadata": {},
   "source": [
    "##### • Choose/subset a city that starts with the same letter as your first name (for example, \"Mexico City\" if your first name is Michael)."
   ]
  },
  {
   "cell_type": "code",
   "execution_count": 78,
   "metadata": {},
   "outputs": [
    {
     "name": "stdout",
     "output_type": "stream",
     "text": [
      "       country    lat    lon  capital     pop_M\n",
      "city                                           \n",
      "Mjolby  Sweden  58.33  15.13        0  0.011504\n"
     ]
    }
   ],
   "source": [
    "Mjolby = cities.query('city == \"Mjolby\"') #subset Mjolby from rest of cities, defined as Mjolby\n",
    "print(Mjolby)"
   ]
  },
  {
   "cell_type": "markdown",
   "metadata": {},
   "source": [
    "##### • Subset the five biggest (i.e., largest population sizes) cities from the country where your selected city is."
   ]
  },
  {
   "cell_type": "code",
   "execution_count": 84,
   "metadata": {},
   "outputs": [
    {
     "name": "stdout",
     "output_type": "stream",
     "text": [
      "the five largest cities in Sweden are:\n"
     ]
    },
    {
     "data": {
      "text/html": [
       "<div>\n",
       "<style scoped>\n",
       "    .dataframe tbody tr th:only-of-type {\n",
       "        vertical-align: middle;\n",
       "    }\n",
       "\n",
       "    .dataframe tbody tr th {\n",
       "        vertical-align: top;\n",
       "    }\n",
       "\n",
       "    .dataframe thead th {\n",
       "        text-align: right;\n",
       "    }\n",
       "</style>\n",
       "<table border=\"1\" class=\"dataframe\">\n",
       "  <thead>\n",
       "    <tr style=\"text-align: right;\">\n",
       "      <th></th>\n",
       "      <th>country</th>\n",
       "      <th>lat</th>\n",
       "      <th>lon</th>\n",
       "      <th>capital</th>\n",
       "      <th>pop_M</th>\n",
       "    </tr>\n",
       "    <tr>\n",
       "      <th>city</th>\n",
       "      <th></th>\n",
       "      <th></th>\n",
       "      <th></th>\n",
       "      <th></th>\n",
       "      <th></th>\n",
       "    </tr>\n",
       "  </thead>\n",
       "  <tbody>\n",
       "    <tr>\n",
       "      <th>Stockholm</th>\n",
       "      <td>Sweden</td>\n",
       "      <td>59.33</td>\n",
       "      <td>18.07</td>\n",
       "      <td>1</td>\n",
       "      <td>1.260712</td>\n",
       "    </tr>\n",
       "    <tr>\n",
       "      <th>Goteborg</th>\n",
       "      <td>Sweden</td>\n",
       "      <td>57.72</td>\n",
       "      <td>12.01</td>\n",
       "      <td>0</td>\n",
       "      <td>0.518990</td>\n",
       "    </tr>\n",
       "    <tr>\n",
       "      <th>Malmo</th>\n",
       "      <td>Sweden</td>\n",
       "      <td>55.61</td>\n",
       "      <td>13.02</td>\n",
       "      <td>0</td>\n",
       "      <td>0.264175</td>\n",
       "    </tr>\n",
       "    <tr>\n",
       "      <th>Uppsala</th>\n",
       "      <td>Sweden</td>\n",
       "      <td>59.86</td>\n",
       "      <td>17.64</td>\n",
       "      <td>0</td>\n",
       "      <td>0.128374</td>\n",
       "    </tr>\n",
       "    <tr>\n",
       "      <th>Vasteras</th>\n",
       "      <td>Sweden</td>\n",
       "      <td>59.62</td>\n",
       "      <td>16.54</td>\n",
       "      <td>0</td>\n",
       "      <td>0.108127</td>\n",
       "    </tr>\n",
       "  </tbody>\n",
       "</table>\n",
       "</div>"
      ],
      "text/plain": [
       "          country    lat    lon  capital     pop_M\n",
       "city                                              \n",
       "Stockholm  Sweden  59.33  18.07        1  1.260712\n",
       "Goteborg   Sweden  57.72  12.01        0  0.518990\n",
       "Malmo      Sweden  55.61  13.02        0  0.264175\n",
       "Uppsala    Sweden  59.86  17.64        0  0.128374\n",
       "Vasteras   Sweden  59.62  16.54        0  0.108127"
      ]
     },
     "execution_count": 84,
     "metadata": {},
     "output_type": "execute_result"
    }
   ],
   "source": [
    "Sweden = cities.query('country == \"Sweden\"') #subset Swedish cities, defined as Sweden\n",
    "Sweden_sorted_pop = Sweden.sort_values('pop_M', ascending=False) #sort the subset by value of their population\n",
    "\n",
    "print('the five largest cities in Sweden are:')\n",
    "Sweden_sorted_pop.head()"
   ]
  }
 ],
 "metadata": {
  "esriNotebookRuntime": {
   "notebookRuntimeName": "ArcGIS Notebook Python 3 Standard",
   "notebookRuntimeVersion": "11.0"
  },
  "kernelspec": {
   "display_name": "Python 3 (ipykernel)",
   "language": "python",
   "name": "python3"
  },
  "language_info": {
   "codemirror_mode": {
    "name": "ipython",
    "version": 3
   },
   "file_extension": ".py",
   "mimetype": "text/x-python",
   "name": "python",
   "nbconvert_exporter": "python",
   "pygments_lexer": "ipython3",
   "version": "3.11.9"
  }
 },
 "nbformat": 4,
 "nbformat_minor": 4
}
