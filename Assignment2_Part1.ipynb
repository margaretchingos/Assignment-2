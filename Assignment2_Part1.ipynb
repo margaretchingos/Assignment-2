{
 "cells": [
  {
   "cell_type": "markdown",
   "metadata": {},
   "source": [
    "## Lab Assignment 2 (Part 1: Python Basics)\n",
    "#### Margaret Chingos | 220000060\n",
    "#### Github link: https://github.com/margaretchingos/Assignment-2?tab=readme-ov-file#assignment-2\n"
   ]
  },
  {
   "cell_type": "markdown",
   "metadata": {},
   "source": [
    "#### Run this cell to connect to your GIS and get started:"
   ]
  },
  {
   "cell_type": "code",
   "execution_count": 1,
   "metadata": {},
   "outputs": [],
   "source": [
    "from arcgis.gis import GIS\n",
    "gis = GIS(\"home\")"
   ]
  },
  {
   "cell_type": "code",
   "execution_count": 8,
   "metadata": {},
   "outputs": [],
   "source": [
    "import math"
   ]
  },
  {
   "cell_type": "markdown",
   "metadata": {},
   "source": [
    "#### Now you are ready to start!"
   ]
  },
  {
   "cell_type": "markdown",
   "metadata": {},
   "source": [
    "##### Task 1: create an if else statement that tests if a number is divisible by 3. "
   ]
  },
  {
   "cell_type": "code",
   "execution_count": 11,
   "metadata": {},
   "outputs": [
    {
     "name": "stdout",
     "output_type": "stream",
     "text": [
      "9 is divisable by 3\n"
     ]
    }
   ],
   "source": [
    "x = 9\n",
    "if x%3 == 0: \n",
    "        print(x, 'is divisable by 3')\n",
    "else: \n",
    "        print(x, 'is not divisable by 3')\n"
   ]
  },
  {
   "cell_type": "markdown",
   "metadata": {},
   "source": [
    "##### Task 2: create an if else statement that tests whether a type of fruit is in a list of acceptable fruits"
   ]
  },
  {
   "cell_type": "code",
   "execution_count": 20,
   "metadata": {},
   "outputs": [
    {
     "name": "stdout",
     "output_type": "stream",
     "text": [
      "strawberry is acceptable\n"
     ]
    }
   ],
   "source": [
    "fruitlist = ['apple', 'orange', 'pear', 'kiwi', 'strawberry'] #define a list \n",
    "\n",
    "fruit = 'strawberry' #check to see if specficifed fruit is in the list\n",
    "if fruit in fruitlist:\n",
    "    print (fruit, 'is acceptable')\n",
    "else:\n",
    "    print (fruit, 'is not acceptable')"
   ]
  },
  {
   "cell_type": "markdown",
   "metadata": {},
   "source": [
    "##### Task 3: create a function to calculate the distance between coordinates using the haversine formula. \n",
    "##### I will calculate the distance between the dundee bus station and the st andrews bus station.\n",
    "##### Dundee bus station coordinates: 56.46335625706359, -2.9658250131157753 \n",
    "##### St Andrews bus station coordinates: 56.34074954587261, -2.802687808820877"
   ]
  },
  {
   "cell_type": "code",
   "execution_count": 29,
   "metadata": {},
   "outputs": [
    {
     "name": "stdout",
     "output_type": "stream",
     "text": [
      "16.930044257924166\n"
     ]
    }
   ],
   "source": [
    "def haversine_distance(coord1, coord2): #define function\n",
    "    R = 6371  #set R, the radius of the earth in kilometers\n",
    "\n",
    "    #change latitude and longitude to radians\n",
    "    lat1, lon1 = math.radians(coord1[0]), math.radians(coord1[1]) \n",
    "    lat2, lon2 = math.radians(coord2[0]), math.radians(coord2[1])\n",
    "    \n",
    "    #import the radian vlaues into the haversine formula\n",
    "    a = math.sin((lat2 - lat1) / 2)**2 + math.cos(lat1) * math.cos(lat2) * math.sin((lon2 - lon1) / 2)**2 \n",
    "    c = 2 * math.atan2(math.sqrt(a), math.sqrt(1 - a))\n",
    "   \n",
    "    #use the results of the haversine formula to calculate distance. Return distance as the output. \n",
    "    distance = R * c\n",
    "    return distance \n",
    "\n",
    "#set coordinates for the function\n",
    "coord1 = [56.46335625706359, -2.9658250131157753] \n",
    "coord2 = [56.34074954587261, -2.802687808820877]\n",
    "\n",
    "print(haversine_distance(coord1, coord2)) #print the function"
   ]
  }
 ],
 "metadata": {
  "esriNotebookRuntime": {
   "notebookRuntimeName": "ArcGIS Notebook Python 3 Standard",
   "notebookRuntimeVersion": "11.0"
  },
  "kernelspec": {
   "display_name": "Python 3 (ipykernel)",
   "language": "python",
   "name": "python3"
  },
  "language_info": {
   "codemirror_mode": {
    "name": "ipython",
    "version": 3
   },
   "file_extension": ".py",
   "mimetype": "text/x-python",
   "name": "python",
   "nbconvert_exporter": "python",
   "pygments_lexer": "ipython3",
   "version": "3.11.9"
  }
 },
 "nbformat": 4,
 "nbformat_minor": 4
}
