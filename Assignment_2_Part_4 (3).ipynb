{
  "cells": [
    {
      "cell_type": "markdown",
      "metadata": {
        "id": "jYVlT2idslas"
      },
      "source": [
        "## Assignment 2 Part 4: Geopandas\n",
        "#### Margaret Chingos | 220000060\n",
        "#### Github link: https://github.com/margaretchingos/Assignment-2/tree/main?tab=readme-ov-file#assignment-2\n"
      ]
    },
    {
      "cell_type": "markdown",
      "metadata": {
        "id": "YOxDT2pms6pK"
      },
      "source": [
        "##### mount my drive:"
      ]
    },
    {
      "cell_type": "code",
      "execution_count": null,
      "metadata": {
        "colab": {
          "base_uri": "https://localhost:8080/"
        },
        "id": "XPnMXQcNpdcV",
        "outputId": "4b0a1be3-4f65-464c-8763-8677bb304e02"
      },
      "outputs": [
        {
          "name": "stdout",
          "output_type": "stream",
          "text": [
            "Mounted at /content/drive\n"
          ]
        }
      ],
      "source": [
        "from google.colab import drive\n",
        "drive.mount('/content/drive')"
      ]
    },
    {
      "cell_type": "markdown",
      "metadata": {
        "id": "BrO8vmY-tBSa"
      },
      "source": [
        "##### Install libraries"
      ]
    },
    {
      "cell_type": "code",
      "execution_count": null,
      "metadata": {
        "id": "Hjj9sdiXph64"
      },
      "outputs": [],
      "source": [
        "pip install contextily"
      ]
    },
    {
      "cell_type": "code",
      "execution_count": null,
      "metadata": {
        "id": "iZq56LHZpz-p"
      },
      "outputs": [],
      "source": [
        "pip install mapclassify"
      ]
    },
    {
      "cell_type": "code",
      "execution_count": null,
      "metadata": {
        "id": "eRMbdA0dqWiy"
      },
      "outputs": [],
      "source": [
        "pip install geopandas"
      ]
    },
    {
      "cell_type": "code",
      "execution_count": null,
      "metadata": {
        "id": "pRiNkasQqeWM"
      },
      "outputs": [],
      "source": [
        "pip install fiona"
      ]
    },
    {
      "cell_type": "code",
      "execution_count": null,
      "metadata": {
        "id": "10qKPjA0qisU"
      },
      "outputs": [],
      "source": [
        "pip install shapely"
      ]
    },
    {
      "cell_type": "code",
      "execution_count": null,
      "metadata": {
        "id": "OqaD7neBqrDT"
      },
      "outputs": [],
      "source": [
        "pip install pyproj"
      ]
    },
    {
      "cell_type": "code",
      "execution_count": null,
      "metadata": {
        "id": "U7IgoLm-qsL1"
      },
      "outputs": [],
      "source": [
        "pip install rtree"
      ]
    },
    {
      "cell_type": "code",
      "execution_count": null,
      "metadata": {
        "id": "daahP6TJqvna"
      },
      "outputs": [],
      "source": [
        "pip install folium"
      ]
    },
    {
      "cell_type": "code",
      "execution_count": null,
      "metadata": {
        "id": "GrkOJlr-q0ic"
      },
      "outputs": [],
      "source": [
        "pip install matplotlib"
      ]
    },
    {
      "cell_type": "code",
      "execution_count": null,
      "metadata": {
        "id": "Go1NS0mkq8Dt"
      },
      "outputs": [],
      "source": [
        "import numpy as np\n",
        "import pandas as pd\n",
        "import matplotlib.pyplot as plt\n",
        "%matplotlib inline\n",
        "import geopandas as gpd\n",
        "import contextily as ctx\n",
        "import rasterio as rio\n",
        "from rasterio import plot\n",
        "\n",
        "plt.rcParams['figure.figsize'] = [10, 8] #sets parameters for all graphic outputs"
      ]
    },
    {
      "cell_type": "markdown",
      "metadata": {
        "id": "bd90ixr0tHwh"
      },
      "source": [
        "##### Task 1: Import data from shapefile in google drive"
      ]
    },
    {
      "cell_type": "code",
      "execution_count": null,
      "metadata": {
        "colab": {
          "base_uri": "https://localhost:8080/",
          "height": 708
        },
        "id": "5bd_uCVkq-L6",
        "outputId": "08c4d2d2-4269-4e75-c612-f9befe87c0d8"
      },
      "outputs": [
        {
          "data": {
            "text/plain": [
              "<Axes: >"
            ]
          },
          "execution_count": 14,
          "metadata": {},
          "output_type": "execute_result"
        },
        {
          "data": {
            "image/png": "[encoded data removed]",
            "text/plain": [
              "<Figure size 1000x800 with 1 Axes>"
            ]
          },
          "metadata": {},
          "output_type": "display_data"
        }
      ],
      "source": [
        "data = gpd.read_file('/content/drive/MyDrive/Colab Notebooks/data/PACRP_SCOTLAND.shp')\n",
        "data.plot()"
      ]
    },
    {
      "cell_type": "markdown",
      "metadata": {
        "id": "WRdsmP2Ztm1o"
      },
      "source": [
        "##### Task 2: Use the correct code to plot the first 5 and the last 5 sets of records in your selected dataset."
      ]
    },
    {
      "cell_type": "code",
      "execution_count": null,
      "metadata": {
        "colab": {
          "base_uri": "https://localhost:8080/",
          "height": 655
        },
        "id": "9LxHLVUftwgv",
        "outputId": "ed4e97f9-f6a8-449f-f246-93db605c839d"
      },
      "outputs": [
        {
          "data": {
            "application/vnd.google.colaboratory.intrinsic+json": {
              "type": "dataframe",
              "variable_name": "data"
            },
            "text/html": [
              "\n",
              "  <div id=\"df-bbc5a792-92a4-4a41-91db-072ea0031b86\" class=\"colab-df-container\">\n",
              "    <div>\n",
              "<style scoped>\n",
              "    .dataframe tbody tr th:only-of-type {\n",
              "        vertical-align: middle;\n",
              "    }\n",
              "\n",
              "    .dataframe tbody tr th {\n",
              "        vertical-align: top;\n",
              "    }\n",
              "\n",
              "    .dataframe thead th {\n",
              "        text-align: right;\n",
              "    }\n",
              "</style>\n",
              "<table border=\"1\" class=\"dataframe\">\n",
              "  <thead>\n",
              "    <tr style=\"text-align: right;\">\n",
              "      <th></th>\n",
              "      <th>id</th>\n",
              "      <th>grant_id</th>\n",
              "      <th>project_na</th>\n",
              "      <th>subsite_nu</th>\n",
              "      <th>peatland_c</th>\n",
              "      <th>current_us</th>\n",
              "      <th>techniques</th>\n",
              "      <th>local_auth</th>\n",
              "      <th>subsite_ar</th>\n",
              "      <th>reported_h</th>\n",
              "      <th>...</th>\n",
              "      <th>reported_7</th>\n",
              "      <th>reported_8</th>\n",
              "      <th>reported_9</th>\n",
              "      <th>reporte_10</th>\n",
              "      <th>reporte_11</th>\n",
              "      <th>reporte_12</th>\n",
              "      <th>last_updat</th>\n",
              "      <th>Shape_Leng</th>\n",
              "      <th>Shape_Area</th>\n",
              "      <th>geometry</th>\n",
              "    </tr>\n",
              "  </thead>\n",
              "  <tbody>\n",
              "    <tr>\n",
              "      <th>0</th>\n",
              "      <td>1.0</td>\n",
              "      <td>12359</td>\n",
              "      <td>Airds Moss Peatland Restoration</td>\n",
              "      <td>1.0</td>\n",
              "      <td>NULL</td>\n",
              "      <td>NULL</td>\n",
              "      <td>fencing and grazing management</td>\n",
              "      <td>East Ayrshire</td>\n",
              "      <td>5653382.68</td>\n",
              "      <td>220.0</td>\n",
              "      <td>...</td>\n",
              "      <td>0.0</td>\n",
              "      <td>0.0</td>\n",
              "      <td>0.0</td>\n",
              "      <td>0.0</td>\n",
              "      <td>0.0</td>\n",
              "      <td>0.0</td>\n",
              "      <td>2024-10-10T14:21:04.251Z</td>\n",
              "      <td>10864.606601</td>\n",
              "      <td>5.653383e+06</td>\n",
              "      <td>POLYGON ((261969.299 625275.445, 261762.923 62...</td>\n",
              "    </tr>\n",
              "    <tr>\n",
              "      <th>1</th>\n",
              "      <td>2.0</td>\n",
              "      <td>12414</td>\n",
              "      <td>Dundreggan Peatland Restoration Pilot Project</td>\n",
              "      <td>1.0</td>\n",
              "      <td>Not provided</td>\n",
              "      <td>NULL</td>\n",
              "      <td>conifer removal, mulching, drain blocking, fur...</td>\n",
              "      <td>Highland</td>\n",
              "      <td>20839.09</td>\n",
              "      <td>0.0</td>\n",
              "      <td>...</td>\n",
              "      <td>0.0</td>\n",
              "      <td>0.0</td>\n",
              "      <td>0.0</td>\n",
              "      <td>0.0</td>\n",
              "      <td>0.0</td>\n",
              "      <td>0.0</td>\n",
              "      <td>2024-10-10T14:21:04.251Z</td>\n",
              "      <td>602.296060</td>\n",
              "      <td>2.083909e+04</td>\n",
              "      <td>POLYGON ((227656.9 816302.163, 227675.775 8163...</td>\n",
              "    </tr>\n",
              "    <tr>\n",
              "      <th>2</th>\n",
              "      <td>3.0</td>\n",
              "      <td>12414</td>\n",
              "      <td>Dundreggan Peatland Restoration Pilot Project</td>\n",
              "      <td>2.0</td>\n",
              "      <td>Not provided</td>\n",
              "      <td>NULL</td>\n",
              "      <td>conifer removal, mulching, drain blocking, fur...</td>\n",
              "      <td>Highland</td>\n",
              "      <td>47809.44</td>\n",
              "      <td>0.0</td>\n",
              "      <td>...</td>\n",
              "      <td>0.0</td>\n",
              "      <td>0.0</td>\n",
              "      <td>0.0</td>\n",
              "      <td>0.0</td>\n",
              "      <td>0.0</td>\n",
              "      <td>0.0</td>\n",
              "      <td>2024-10-10T14:21:04.251Z</td>\n",
              "      <td>860.747070</td>\n",
              "      <td>4.780944e+04</td>\n",
              "      <td>POLYGON ((227934.4 815812.163, 228006.9 815707...</td>\n",
              "    </tr>\n",
              "    <tr>\n",
              "      <th>3</th>\n",
              "      <td>4.0</td>\n",
              "      <td>12414</td>\n",
              "      <td>Dundreggan Peatland Restoration Pilot Project</td>\n",
              "      <td>3.0</td>\n",
              "      <td>Not provided</td>\n",
              "      <td>NULL</td>\n",
              "      <td>conifer removal, mulching, drain blocking, fur...</td>\n",
              "      <td>Highland</td>\n",
              "      <td>192607.99</td>\n",
              "      <td>0.0</td>\n",
              "      <td>...</td>\n",
              "      <td>0.0</td>\n",
              "      <td>0.0</td>\n",
              "      <td>0.0</td>\n",
              "      <td>0.0</td>\n",
              "      <td>0.0</td>\n",
              "      <td>0.0</td>\n",
              "      <td>2024-10-10T14:21:04.251Z</td>\n",
              "      <td>2105.218858</td>\n",
              "      <td>1.926080e+05</td>\n",
              "      <td>POLYGON ((228268.938 815231.92, 228215.98 8149...</td>\n",
              "    </tr>\n",
              "    <tr>\n",
              "      <th>4</th>\n",
              "      <td>5.0</td>\n",
              "      <td>12415</td>\n",
              "      <td>The Red Moss of Leys Recovery Project</td>\n",
              "      <td>1.0</td>\n",
              "      <td>Not provided</td>\n",
              "      <td>NULL</td>\n",
              "      <td>tree and scrub removal</td>\n",
              "      <td>Aberdeenshire</td>\n",
              "      <td>752164.78</td>\n",
              "      <td>0.0</td>\n",
              "      <td>...</td>\n",
              "      <td>0.0</td>\n",
              "      <td>0.0</td>\n",
              "      <td>0.0</td>\n",
              "      <td>0.0</td>\n",
              "      <td>0.0</td>\n",
              "      <td>0.0</td>\n",
              "      <td>2024-10-10T14:21:04.251Z</td>\n",
              "      <td>3820.280698</td>\n",
              "      <td>7.521647e+05</td>\n",
              "      <td>POLYGON ((374169.509 801468.792, 374656.344 80...</td>\n",
              "    </tr>\n",
              "  </tbody>\n",
              "</table>\n",
              "<p>5 rows × 26 columns</p>\n",
              "</div>\n",
              "    <div class=\"colab-df-buttons\">\n",
              "\n",
              "  <div class=\"colab-df-container\">\n",
              "    <button class=\"colab-df-convert\" onclick=\"convertToInteractive('df-bbc5a792-92a4-4a41-91db-072ea0031b86')\"\n",
              "            title=\"Convert this dataframe to an interactive table.\"\n",
              "            style=\"display:none;\">\n",
              "\n",
              "  <svg xmlns=\"http://www.w3.org/2000/svg\" height=\"24px\" viewBox=\"0 -960 960 960\">\n",
              "    <path d=\"M120-120v-720h720v720H120Zm60-500h600v-160H180v160Zm220 220h160v-160H400v160Zm0 220h160v-160H400v160ZM180-400h160v-160H180v160Zm440 0h160v-160H620v160ZM180-180h160v-160H180v160Zm440 0h160v-160H620v160Z\"/>\n",
              "  </svg>\n",
              "    </button>\n",
              "\n",
              "  <style>\n",
              "    .colab-df-container {\n",
              "      display:flex;\n",
              "      gap: 12px;\n",
              "    }\n",
              "\n",
              "    .colab-df-convert {\n",
              "      background-color: #E8F0FE;\n",
              "      border: none;\n",
              "      border-radius: 50%;\n",
              "      cursor: pointer;\n",
              "      display: none;\n",
              "      fill: #1967D2;\n",
              "      height: 32px;\n",
              "      padding: 0 0 0 0;\n",
              "      width: 32px;\n",
              "    }\n",
              "\n",
              "    .colab-df-convert:hover {\n",
              "      background-color: #E2EBFA;\n",
              "      box-shadow: 0px 1px 2px rgba(60, 64, 67, 0.3), 0px 1px 3px 1px rgba(60, 64, 67, 0.15);\n",
              "      fill: #174EA6;\n",
              "    }\n",
              "\n",
              "    .colab-df-buttons div {\n",
              "      margin-bottom: 4px;\n",
              "    }\n",
              "\n",
              "    [theme=dark] .colab-df-convert {\n",
              "      background-color: #3B4455;\n",
              "      fill: #D2E3FC;\n",
              "    }\n",
              "\n",
              "    [theme=dark] .colab-df-convert:hover {\n",
              "      background-color: #434B5C;\n",
              "      box-shadow: 0px 1px 3px 1px rgba(0, 0, 0, 0.15);\n",
              "      filter: drop-shadow(0px 1px 2px rgba(0, 0, 0, 0.3));\n",
              "      fill: #FFFFFF;\n",
              "    }\n",
              "  </style>\n",
              "\n",
              "    <script>\n",
              "      const buttonEl =\n",
              "        document.querySelector('#df-bbc5a792-92a4-4a41-91db-072ea0031b86 button.colab-df-convert');\n",
              "      buttonEl.style.display =\n",
              "        google.colab.kernel.accessAllowed ? 'block' : 'none';\n",
              "\n",
              "      async function convertToInteractive(key) {\n",
              "        const element = document.querySelector('#df-bbc5a792-92a4-4a41-91db-072ea0031b86');\n",
              "        const dataTable =\n",
              "          await google.colab.kernel.invokeFunction('convertToInteractive',\n",
              "                                                    [key], {});\n",
              "        if (!dataTable) return;\n",
              "\n",
              "        const docLinkHtml = 'Like what you see? Visit the ' +\n",
              "          '<a target=\"_blank\" href=https://colab.research.google.com/notebooks/data_table.ipynb>data table notebook</a>'\n",
              "          + ' to learn more about interactive tables.';\n",
              "        element.innerHTML = '';\n",
              "        dataTable['output_type'] = 'display_data';\n",
              "        await google.colab.output.renderOutput(dataTable, element);\n",
              "        const docLink = document.createElement('div');\n",
              "        docLink.innerHTML = docLinkHtml;\n",
              "        element.appendChild(docLink);\n",
              "      }\n",
              "    </script>\n",
              "  </div>\n",
              "\n",
              "\n",
              "<div id=\"df-b7ac39c0-6b16-4a18-aac0-56d81bfd0a80\">\n",
              "  <button class=\"colab-df-quickchart\" onclick=\"quickchart('df-b7ac39c0-6b16-4a18-aac0-56d81bfd0a80')\"\n",
              "            title=\"Suggest charts\"\n",
              "            style=\"display:none;\">\n",
              "\n",
              "<svg xmlns=\"http://www.w3.org/2000/svg\" height=\"24px\"viewBox=\"0 0 24 24\"\n",
              "     width=\"24px\">\n",
              "    <g>\n",
              "        <path d=\"M19 3H5c-1.1 0-2 .9-2 2v14c0 1.1.9 2 2 2h14c1.1 0 2-.9 2-2V5c0-1.1-.9-2-2-2zM9 17H7v-7h2v7zm4 0h-2V7h2v10zm4 0h-2v-4h2v4z\"/>\n",
              "    </g>\n",
              "</svg>\n",
              "  </button>\n",
              "\n",
              "<style>\n",
              "  .colab-df-quickchart {\n",
              "      --bg-color: #E8F0FE;\n",
              "      --fill-color: #1967D2;\n",
              "      --hover-bg-color: #E2EBFA;\n",
              "      --hover-fill-color: #174EA6;\n",
              "      --disabled-fill-color: #AAA;\n",
              "      --disabled-bg-color: #DDD;\n",
              "  }\n",
              "\n",
              "  [theme=dark] .colab-df-quickchart {\n",
              "      --bg-color: #3B4455;\n",
              "      --fill-color: #D2E3FC;\n",
              "      --hover-bg-color: #434B5C;\n",
              "      --hover-fill-color: #FFFFFF;\n",
              "      --disabled-bg-color: #3B4455;\n",
              "      --disabled-fill-color: #666;\n",
              "  }\n",
              "\n",
              "  .colab-df-quickchart {\n",
              "    background-color: var(--bg-color);\n",
              "    border: none;\n",
              "    border-radius: 50%;\n",
              "    cursor: pointer;\n",
              "    display: none;\n",
              "    fill: var(--fill-color);\n",
              "    height: 32px;\n",
              "    padding: 0;\n",
              "    width: 32px;\n",
              "  }\n",
              "\n",
              "  .colab-df-quickchart:hover {\n",
              "    background-color: var(--hover-bg-color);\n",
              "    box-shadow: 0 1px 2px rgba(60, 64, 67, 0.3), 0 1px 3px 1px rgba(60, 64, 67, 0.15);\n",
              "    fill: var(--button-hover-fill-color);\n",
              "  }\n",
              "\n",
              "  .colab-df-quickchart-complete:disabled,\n",
              "  .colab-df-quickchart-complete:disabled:hover {\n",
              "    background-color: var(--disabled-bg-color);\n",
              "    fill: var(--disabled-fill-color);\n",
              "    box-shadow: none;\n",
              "  }\n",
              "\n",
              "  .colab-df-spinner {\n",
              "    border: 2px solid var(--fill-color);\n",
              "    border-color: transparent;\n",
              "    border-bottom-color: var(--fill-color);\n",
              "    animation:\n",
              "      spin 1s steps(1) infinite;\n",
              "  }\n",
              "\n",
              "  @keyframes spin {\n",
              "    0% {\n",
              "      border-color: transparent;\n",
              "      border-bottom-color: var(--fill-color);\n",
              "      border-left-color: var(--fill-color);\n",
              "    }\n",
              "    20% {\n",
              "      border-color: transparent;\n",
              "      border-left-color: var(--fill-color);\n",
              "      border-top-color: var(--fill-color);\n",
              "    }\n",
              "    30% {\n",
              "      border-color: transparent;\n",
              "      border-left-color: var(--fill-color);\n",
              "      border-top-color: var(--fill-color);\n",
              "      border-right-color: var(--fill-color);\n",
              "    }\n",
              "    40% {\n",
              "      border-color: transparent;\n",
              "      border-right-color: var(--fill-color);\n",
              "      border-top-color: var(--fill-color);\n",
              "    }\n",
              "    60% {\n",
              "      border-color: transparent;\n",
              "      border-right-color: var(--fill-color);\n",
              "    }\n",
              "    80% {\n",
              "      border-color: transparent;\n",
              "      border-right-color: var(--fill-color);\n",
              "      border-bottom-color: var(--fill-color);\n",
              "    }\n",
              "    90% {\n",
              "      border-color: transparent;\n",
              "      border-bottom-color: var(--fill-color);\n",
              "    }\n",
              "  }\n",
              "</style>\n",
              "\n",
              "  <script>\n",
              "    async function quickchart(key) {\n",
              "      const quickchartButtonEl =\n",
              "        document.querySelector('#' + key + ' button');\n",
              "      quickchartButtonEl.disabled = true;  // To prevent multiple clicks.\n",
              "      quickchartButtonEl.classList.add('colab-df-spinner');\n",
              "      try {\n",
              "        const charts = await google.colab.kernel.invokeFunction(\n",
              "            'suggestCharts', [key], {});\n",
              "      } catch (error) {\n",
              "        console.error('Error during call to suggestCharts:', error);\n",
              "      }\n",
              "      quickchartButtonEl.classList.remove('colab-df-spinner');\n",
              "      quickchartButtonEl.classList.add('colab-df-quickchart-complete');\n",
              "    }\n",
              "    (() => {\n",
              "      let quickchartButtonEl =\n",
              "        document.querySelector('#df-b7ac39c0-6b16-4a18-aac0-56d81bfd0a80 button');\n",
              "      quickchartButtonEl.style.display =\n",
              "        google.colab.kernel.accessAllowed ? 'block' : 'none';\n",
              "    })();\n",
              "  </script>\n",
              "</div>\n",
              "\n",
              "    </div>\n",
              "  </div>\n"
            ],
            "text/plain": [
              "    id grant_id                                     project_na  subsite_nu  \\\n",
              "0  1.0    12359                Airds Moss Peatland Restoration         1.0   \n",
              "1  2.0    12414  Dundreggan Peatland Restoration Pilot Project         1.0   \n",
              "2  3.0    12414  Dundreggan Peatland Restoration Pilot Project         2.0   \n",
              "3  4.0    12414  Dundreggan Peatland Restoration Pilot Project         3.0   \n",
              "4  5.0    12415          The Red Moss of Leys Recovery Project         1.0   \n",
              "\n",
              "     peatland_c current_us                                         techniques  \\\n",
              "0          NULL       NULL                     fencing and grazing management   \n",
              "1  Not provided       NULL  conifer removal, mulching, drain blocking, fur...   \n",
              "2  Not provided       NULL  conifer removal, mulching, drain blocking, fur...   \n",
              "3  Not provided       NULL  conifer removal, mulching, drain blocking, fur...   \n",
              "4  Not provided       NULL                             tree and scrub removal   \n",
              "\n",
              "      local_auth  subsite_ar  reported_h  ...  reported_7  reported_8  \\\n",
              "0  East Ayrshire  5653382.68       220.0  ...         0.0         0.0   \n",
              "1       Highland    20839.09         0.0  ...         0.0         0.0   \n",
              "2       Highland    47809.44         0.0  ...         0.0         0.0   \n",
              "3       Highland   192607.99         0.0  ...         0.0         0.0   \n",
              "4  Aberdeenshire   752164.78         0.0  ...         0.0         0.0   \n",
              "\n",
              "   reported_9  reporte_10  reporte_11  reporte_12                last_updat  \\\n",
              "0         0.0         0.0         0.0         0.0  2024-10-10T14:21:04.251Z   \n",
              "1         0.0         0.0         0.0         0.0  2024-10-10T14:21:04.251Z   \n",
              "2         0.0         0.0         0.0         0.0  2024-10-10T14:21:04.251Z   \n",
              "3         0.0         0.0         0.0         0.0  2024-10-10T14:21:04.251Z   \n",
              "4         0.0         0.0         0.0         0.0  2024-10-10T14:21:04.251Z   \n",
              "\n",
              "     Shape_Leng    Shape_Area  \\\n",
              "0  10864.606601  5.653383e+06   \n",
              "1    602.296060  2.083909e+04   \n",
              "2    860.747070  4.780944e+04   \n",
              "3   2105.218858  1.926080e+05   \n",
              "4   3820.280698  7.521647e+05   \n",
              "\n",
              "                                            geometry  \n",
              "0  POLYGON ((261969.299 625275.445, 261762.923 62...  \n",
              "1  POLYGON ((227656.9 816302.163, 227675.775 8163...  \n",
              "2  POLYGON ((227934.4 815812.163, 228006.9 815707...  \n",
              "3  POLYGON ((228268.938 815231.92, 228215.98 8149...  \n",
              "4  POLYGON ((374169.509 801468.792, 374656.344 80...  \n",
              "\n",
              "[5 rows x 26 columns]"
            ]
          },
          "execution_count": 16,
          "metadata": {},
          "output_type": "execute_result"
        }
      ],
      "source": [
        "data.head() #.head shows the first 5 rows of the dataframe"
      ]
    },
    {
      "cell_type": "code",
      "execution_count": null,
      "metadata": {
        "colab": {
          "base_uri": "https://localhost:8080/",
          "height": 637
        },
        "id": "M036T5Fgt7xQ",
        "outputId": "93c69c45-8784-411d-9fda-6403ef1b6ba4"
      },
      "outputs": [
        {
          "data": {
            "application/vnd.google.colaboratory.intrinsic+json": {
              "type": "dataframe"
            },
            "text/html": [
              "\n",
              "  <div id=\"df-ba5aae37-11fa-46ee-a579-d1bcb79e8722\" class=\"colab-df-container\">\n",
              "    <div>\n",
              "<style scoped>\n",
              "    .dataframe tbody tr th:only-of-type {\n",
              "        vertical-align: middle;\n",
              "    }\n",
              "\n",
              "    .dataframe tbody tr th {\n",
              "        vertical-align: top;\n",
              "    }\n",
              "\n",
              "    .dataframe thead th {\n",
              "        text-align: right;\n",
              "    }\n",
              "</style>\n",
              "<table border=\"1\" class=\"dataframe\">\n",
              "  <thead>\n",
              "    <tr style=\"text-align: right;\">\n",
              "      <th></th>\n",
              "      <th>id</th>\n",
              "      <th>grant_id</th>\n",
              "      <th>project_na</th>\n",
              "      <th>subsite_nu</th>\n",
              "      <th>peatland_c</th>\n",
              "      <th>current_us</th>\n",
              "      <th>techniques</th>\n",
              "      <th>local_auth</th>\n",
              "      <th>subsite_ar</th>\n",
              "      <th>reported_h</th>\n",
              "      <th>...</th>\n",
              "      <th>reported_7</th>\n",
              "      <th>reported_8</th>\n",
              "      <th>reported_9</th>\n",
              "      <th>reporte_10</th>\n",
              "      <th>reporte_11</th>\n",
              "      <th>reporte_12</th>\n",
              "      <th>last_updat</th>\n",
              "      <th>Shape_Leng</th>\n",
              "      <th>Shape_Area</th>\n",
              "      <th>geometry</th>\n",
              "    </tr>\n",
              "  </thead>\n",
              "  <tbody>\n",
              "    <tr>\n",
              "      <th>485</th>\n",
              "      <td>486.0</td>\n",
              "      <td>PEAT0075</td>\n",
              "      <td>Benmore West</td>\n",
              "      <td>2.0</td>\n",
              "      <td>Forested previously forested</td>\n",
              "      <td>Forestry</td>\n",
              "      <td>Block drains with peat dams and remove non nat...</td>\n",
              "      <td>Highland</td>\n",
              "      <td>1384882.84</td>\n",
              "      <td>0.0</td>\n",
              "      <td>...</td>\n",
              "      <td>0.0</td>\n",
              "      <td>0.0</td>\n",
              "      <td>0.0</td>\n",
              "      <td>10.0</td>\n",
              "      <td>97.5</td>\n",
              "      <td>0.0</td>\n",
              "      <td>2024-10-10T14:21:04.251Z</td>\n",
              "      <td>13225.029833</td>\n",
              "      <td>1.384883e+06</td>\n",
              "      <td>MULTIPOLYGON (((230507.13 907372.48, 230530.94...</td>\n",
              "    </tr>\n",
              "    <tr>\n",
              "      <th>486</th>\n",
              "      <td>487.0</td>\n",
              "      <td>PEAT0079</td>\n",
              "      <td>Limerigg - Salterhill Moss Restoration</td>\n",
              "      <td>1.0</td>\n",
              "      <td>NULL</td>\n",
              "      <td>NULL</td>\n",
              "      <td>None</td>\n",
              "      <td>Falkirk</td>\n",
              "      <td>50123.90</td>\n",
              "      <td>0.0</td>\n",
              "      <td>...</td>\n",
              "      <td>0.0</td>\n",
              "      <td>0.0</td>\n",
              "      <td>0.0</td>\n",
              "      <td>0.0</td>\n",
              "      <td>5.0</td>\n",
              "      <td>0.0</td>\n",
              "      <td>2024-10-10T14:21:04.251Z</td>\n",
              "      <td>1026.853758</td>\n",
              "      <td>5.012390e+04</td>\n",
              "      <td>POLYGON ((286251.704 671397.129, 286240.513 67...</td>\n",
              "    </tr>\n",
              "    <tr>\n",
              "      <th>487</th>\n",
              "      <td>488.0</td>\n",
              "      <td>PEAT0096</td>\n",
              "      <td>West Lussa - 39024 Drumore Burn</td>\n",
              "      <td>1.0</td>\n",
              "      <td>Forested previously forested</td>\n",
              "      <td>Forestry</td>\n",
              "      <td>Stump flipping</td>\n",
              "      <td>Argyll and Bute</td>\n",
              "      <td>423353.24</td>\n",
              "      <td>0.0</td>\n",
              "      <td>...</td>\n",
              "      <td>0.0</td>\n",
              "      <td>0.0</td>\n",
              "      <td>0.0</td>\n",
              "      <td>0.0</td>\n",
              "      <td>42.0</td>\n",
              "      <td>0.0</td>\n",
              "      <td>2024-10-10T14:21:04.251Z</td>\n",
              "      <td>3906.405724</td>\n",
              "      <td>4.233532e+05</td>\n",
              "      <td>POLYGON ((169786.033 632321.359, 169482.423 63...</td>\n",
              "    </tr>\n",
              "    <tr>\n",
              "      <th>488</th>\n",
              "      <td>489.0</td>\n",
              "      <td>SW003</td>\n",
              "      <td>Loch Fasgro - Phase 1</td>\n",
              "      <td>1.0</td>\n",
              "      <td>Actively eroding Drained</td>\n",
              "      <td>Other please specify in Notes field Not provid...</td>\n",
              "      <td>Drain blocking, Gully block and reprofiling, H...</td>\n",
              "      <td>Eilean Siar</td>\n",
              "      <td>70454.40</td>\n",
              "      <td>0.0</td>\n",
              "      <td>...</td>\n",
              "      <td>0.0</td>\n",
              "      <td>0.0</td>\n",
              "      <td>7.0</td>\n",
              "      <td>0.0</td>\n",
              "      <td>0.0</td>\n",
              "      <td>0.0</td>\n",
              "      <td>2024-10-10T14:21:04.251Z</td>\n",
              "      <td>1488.196264</td>\n",
              "      <td>7.045440e+04</td>\n",
              "      <td>POLYGON ((120417.684 941699.483, 120438.563 94...</td>\n",
              "    </tr>\n",
              "    <tr>\n",
              "      <th>489</th>\n",
              "      <td>490.0</td>\n",
              "      <td>SW004</td>\n",
              "      <td>Loch Fasgro - Phase 2</td>\n",
              "      <td>1.0</td>\n",
              "      <td>Actively eroding Drained</td>\n",
              "      <td>Rough grazing</td>\n",
              "      <td>Drain reprofiling, Gully blocking, Gully repro...</td>\n",
              "      <td>Eilean Siar</td>\n",
              "      <td>206443.18</td>\n",
              "      <td>0.0</td>\n",
              "      <td>...</td>\n",
              "      <td>0.0</td>\n",
              "      <td>0.0</td>\n",
              "      <td>0.0</td>\n",
              "      <td>17.0</td>\n",
              "      <td>0.0</td>\n",
              "      <td>0.0</td>\n",
              "      <td>2024-10-10T14:21:04.251Z</td>\n",
              "      <td>2301.940682</td>\n",
              "      <td>2.064432e+05</td>\n",
              "      <td>POLYGON ((121407.174 940875.973, 121407.312 94...</td>\n",
              "    </tr>\n",
              "  </tbody>\n",
              "</table>\n",
              "<p>5 rows × 26 columns</p>\n",
              "</div>\n",
              "    <div class=\"colab-df-buttons\">\n",
              "\n",
              "  <div class=\"colab-df-container\">\n",
              "    <button class=\"colab-df-convert\" onclick=\"convertToInteractive('df-ba5aae37-11fa-46ee-a579-d1bcb79e8722')\"\n",
              "            title=\"Convert this dataframe to an interactive table.\"\n",
              "            style=\"display:none;\">\n",
              "\n",
              "  <svg xmlns=\"http://www.w3.org/2000/svg\" height=\"24px\" viewBox=\"0 -960 960 960\">\n",
              "    <path d=\"M120-120v-720h720v720H120Zm60-500h600v-160H180v160Zm220 220h160v-160H400v160Zm0 220h160v-160H400v160ZM180-400h160v-160H180v160Zm440 0h160v-160H620v160ZM180-180h160v-160H180v160Zm440 0h160v-160H620v160Z\"/>\n",
              "  </svg>\n",
              "    </button>\n",
              "\n",
              "  <style>\n",
              "    .colab-df-container {\n",
              "      display:flex;\n",
              "      gap: 12px;\n",
              "    }\n",
              "\n",
              "    .colab-df-convert {\n",
              "      background-color: #E8F0FE;\n",
              "      border: none;\n",
              "      border-radius: 50%;\n",
              "      cursor: pointer;\n",
              "      display: none;\n",
              "      fill: #1967D2;\n",
              "      height: 32px;\n",
              "      padding: 0 0 0 0;\n",
              "      width: 32px;\n",
              "    }\n",
              "\n",
              "    .colab-df-convert:hover {\n",
              "      background-color: #E2EBFA;\n",
              "      box-shadow: 0px 1px 2px rgba(60, 64, 67, 0.3), 0px 1px 3px 1px rgba(60, 64, 67, 0.15);\n",
              "      fill: #174EA6;\n",
              "    }\n",
              "\n",
              "    .colab-df-buttons div {\n",
              "      margin-bottom: 4px;\n",
              "    }\n",
              "\n",
              "    [theme=dark] .colab-df-convert {\n",
              "      background-color: #3B4455;\n",
              "      fill: #D2E3FC;\n",
              "    }\n",
              "\n",
              "    [theme=dark] .colab-df-convert:hover {\n",
              "      background-color: #434B5C;\n",
              "      box-shadow: 0px 1px 3px 1px rgba(0, 0, 0, 0.15);\n",
              "      filter: drop-shadow(0px 1px 2px rgba(0, 0, 0, 0.3));\n",
              "      fill: #FFFFFF;\n",
              "    }\n",
              "  </style>\n",
              "\n",
              "    <script>\n",
              "      const buttonEl =\n",
              "        document.querySelector('#df-ba5aae37-11fa-46ee-a579-d1bcb79e8722 button.colab-df-convert');\n",
              "      buttonEl.style.display =\n",
              "        google.colab.kernel.accessAllowed ? 'block' : 'none';\n",
              "\n",
              "      async function convertToInteractive(key) {\n",
              "        const element = document.querySelector('#df-ba5aae37-11fa-46ee-a579-d1bcb79e8722');\n",
              "        const dataTable =\n",
              "          await google.colab.kernel.invokeFunction('convertToInteractive',\n",
              "                                                    [key], {});\n",
              "        if (!dataTable) return;\n",
              "\n",
              "        const docLinkHtml = 'Like what you see? Visit the ' +\n",
              "          '<a target=\"_blank\" href=https://colab.research.google.com/notebooks/data_table.ipynb>data table notebook</a>'\n",
              "          + ' to learn more about interactive tables.';\n",
              "        element.innerHTML = '';\n",
              "        dataTable['output_type'] = 'display_data';\n",
              "        await google.colab.output.renderOutput(dataTable, element);\n",
              "        const docLink = document.createElement('div');\n",
              "        docLink.innerHTML = docLinkHtml;\n",
              "        element.appendChild(docLink);\n",
              "      }\n",
              "    </script>\n",
              "  </div>\n",
              "\n",
              "\n",
              "<div id=\"df-6b08f063-dc07-437f-9a93-966a9b0cc382\">\n",
              "  <button class=\"colab-df-quickchart\" onclick=\"quickchart('df-6b08f063-dc07-437f-9a93-966a9b0cc382')\"\n",
              "            title=\"Suggest charts\"\n",
              "            style=\"display:none;\">\n",
              "\n",
              "<svg xmlns=\"http://www.w3.org/2000/svg\" height=\"24px\"viewBox=\"0 0 24 24\"\n",
              "     width=\"24px\">\n",
              "    <g>\n",
              "        <path d=\"M19 3H5c-1.1 0-2 .9-2 2v14c0 1.1.9 2 2 2h14c1.1 0 2-.9 2-2V5c0-1.1-.9-2-2-2zM9 17H7v-7h2v7zm4 0h-2V7h2v10zm4 0h-2v-4h2v4z\"/>\n",
              "    </g>\n",
              "</svg>\n",
              "  </button>\n",
              "\n",
              "<style>\n",
              "  .colab-df-quickchart {\n",
              "      --bg-color: #E8F0FE;\n",
              "      --fill-color: #1967D2;\n",
              "      --hover-bg-color: #E2EBFA;\n",
              "      --hover-fill-color: #174EA6;\n",
              "      --disabled-fill-color: #AAA;\n",
              "      --disabled-bg-color: #DDD;\n",
              "  }\n",
              "\n",
              "  [theme=dark] .colab-df-quickchart {\n",
              "      --bg-color: #3B4455;\n",
              "      --fill-color: #D2E3FC;\n",
              "      --hover-bg-color: #434B5C;\n",
              "      --hover-fill-color: #FFFFFF;\n",
              "      --disabled-bg-color: #3B4455;\n",
              "      --disabled-fill-color: #666;\n",
              "  }\n",
              "\n",
              "  .colab-df-quickchart {\n",
              "    background-color: var(--bg-color);\n",
              "    border: none;\n",
              "    border-radius: 50%;\n",
              "    cursor: pointer;\n",
              "    display: none;\n",
              "    fill: var(--fill-color);\n",
              "    height: 32px;\n",
              "    padding: 0;\n",
              "    width: 32px;\n",
              "  }\n",
              "\n",
              "  .colab-df-quickchart:hover {\n",
              "    background-color: var(--hover-bg-color);\n",
              "    box-shadow: 0 1px 2px rgba(60, 64, 67, 0.3), 0 1px 3px 1px rgba(60, 64, 67, 0.15);\n",
              "    fill: var(--button-hover-fill-color);\n",
              "  }\n",
              "\n",
              "  .colab-df-quickchart-complete:disabled,\n",
              "  .colab-df-quickchart-complete:disabled:hover {\n",
              "    background-color: var(--disabled-bg-color);\n",
              "    fill: var(--disabled-fill-color);\n",
              "    box-shadow: none;\n",
              "  }\n",
              "\n",
              "  .colab-df-spinner {\n",
              "    border: 2px solid var(--fill-color);\n",
              "    border-color: transparent;\n",
              "    border-bottom-color: var(--fill-color);\n",
              "    animation:\n",
              "      spin 1s steps(1) infinite;\n",
              "  }\n",
              "\n",
              "  @keyframes spin {\n",
              "    0% {\n",
              "      border-color: transparent;\n",
              "      border-bottom-color: var(--fill-color);\n",
              "      border-left-color: var(--fill-color);\n",
              "    }\n",
              "    20% {\n",
              "      border-color: transparent;\n",
              "      border-left-color: var(--fill-color);\n",
              "      border-top-color: var(--fill-color);\n",
              "    }\n",
              "    30% {\n",
              "      border-color: transparent;\n",
              "      border-left-color: var(--fill-color);\n",
              "      border-top-color: var(--fill-color);\n",
              "      border-right-color: var(--fill-color);\n",
              "    }\n",
              "    40% {\n",
              "      border-color: transparent;\n",
              "      border-right-color: var(--fill-color);\n",
              "      border-top-color: var(--fill-color);\n",
              "    }\n",
              "    60% {\n",
              "      border-color: transparent;\n",
              "      border-right-color: var(--fill-color);\n",
              "    }\n",
              "    80% {\n",
              "      border-color: transparent;\n",
              "      border-right-color: var(--fill-color);\n",
              "      border-bottom-color: var(--fill-color);\n",
              "    }\n",
              "    90% {\n",
              "      border-color: transparent;\n",
              "      border-bottom-color: var(--fill-color);\n",
              "    }\n",
              "  }\n",
              "</style>\n",
              "\n",
              "  <script>\n",
              "    async function quickchart(key) {\n",
              "      const quickchartButtonEl =\n",
              "        document.querySelector('#' + key + ' button');\n",
              "      quickchartButtonEl.disabled = true;  // To prevent multiple clicks.\n",
              "      quickchartButtonEl.classList.add('colab-df-spinner');\n",
              "      try {\n",
              "        const charts = await google.colab.kernel.invokeFunction(\n",
              "            'suggestCharts', [key], {});\n",
              "      } catch (error) {\n",
              "        console.error('Error during call to suggestCharts:', error);\n",
              "      }\n",
              "      quickchartButtonEl.classList.remove('colab-df-spinner');\n",
              "      quickchartButtonEl.classList.add('colab-df-quickchart-complete');\n",
              "    }\n",
              "    (() => {\n",
              "      let quickchartButtonEl =\n",
              "        document.querySelector('#df-6b08f063-dc07-437f-9a93-966a9b0cc382 button');\n",
              "      quickchartButtonEl.style.display =\n",
              "        google.colab.kernel.accessAllowed ? 'block' : 'none';\n",
              "    })();\n",
              "  </script>\n",
              "</div>\n",
              "\n",
              "    </div>\n",
              "  </div>\n"
            ],
            "text/plain": [
              "        id  grant_id                              project_na  subsite_nu  \\\n",
              "485  486.0  PEAT0075                            Benmore West         2.0   \n",
              "486  487.0  PEAT0079  Limerigg - Salterhill Moss Restoration         1.0   \n",
              "487  488.0  PEAT0096         West Lussa - 39024 Drumore Burn         1.0   \n",
              "488  489.0     SW003                   Loch Fasgro - Phase 1         1.0   \n",
              "489  490.0     SW004                   Loch Fasgro - Phase 2         1.0   \n",
              "\n",
              "                       peatland_c  \\\n",
              "485  Forested previously forested   \n",
              "486                          NULL   \n",
              "487  Forested previously forested   \n",
              "488      Actively eroding Drained   \n",
              "489      Actively eroding Drained   \n",
              "\n",
              "                                            current_us  \\\n",
              "485                                           Forestry   \n",
              "486                                               NULL   \n",
              "487                                           Forestry   \n",
              "488  Other please specify in Notes field Not provid...   \n",
              "489                                      Rough grazing   \n",
              "\n",
              "                                            techniques       local_auth  \\\n",
              "485  Block drains with peat dams and remove non nat...         Highland   \n",
              "486                                               None          Falkirk   \n",
              "487                                     Stump flipping  Argyll and Bute   \n",
              "488  Drain blocking, Gully block and reprofiling, H...      Eilean Siar   \n",
              "489  Drain reprofiling, Gully blocking, Gully repro...      Eilean Siar   \n",
              "\n",
              "     subsite_ar  reported_h  ...  reported_7  reported_8  reported_9  \\\n",
              "485  1384882.84         0.0  ...         0.0         0.0         0.0   \n",
              "486    50123.90         0.0  ...         0.0         0.0         0.0   \n",
              "487   423353.24         0.0  ...         0.0         0.0         0.0   \n",
              "488    70454.40         0.0  ...         0.0         0.0         7.0   \n",
              "489   206443.18         0.0  ...         0.0         0.0         0.0   \n",
              "\n",
              "     reporte_10  reporte_11  reporte_12                last_updat  \\\n",
              "485        10.0        97.5         0.0  2024-10-10T14:21:04.251Z   \n",
              "486         0.0         5.0         0.0  2024-10-10T14:21:04.251Z   \n",
              "487         0.0        42.0         0.0  2024-10-10T14:21:04.251Z   \n",
              "488         0.0         0.0         0.0  2024-10-10T14:21:04.251Z   \n",
              "489        17.0         0.0         0.0  2024-10-10T14:21:04.251Z   \n",
              "\n",
              "       Shape_Leng    Shape_Area  \\\n",
              "485  13225.029833  1.384883e+06   \n",
              "486   1026.853758  5.012390e+04   \n",
              "487   3906.405724  4.233532e+05   \n",
              "488   1488.196264  7.045440e+04   \n",
              "489   2301.940682  2.064432e+05   \n",
              "\n",
              "                                              geometry  \n",
              "485  MULTIPOLYGON (((230507.13 907372.48, 230530.94...  \n",
              "486  POLYGON ((286251.704 671397.129, 286240.513 67...  \n",
              "487  POLYGON ((169786.033 632321.359, 169482.423 63...  \n",
              "488  POLYGON ((120417.684 941699.483, 120438.563 94...  \n",
              "489  POLYGON ((121407.174 940875.973, 121407.312 94...  \n",
              "\n",
              "[5 rows x 26 columns]"
            ]
          },
          "execution_count": 17,
          "metadata": {},
          "output_type": "execute_result"
        }
      ],
      "source": [
        "data.tail() #.tail shows the last 5 rows of the dataframe"
      ]
    },
    {
      "cell_type": "markdown",
      "metadata": {
        "id": "dPbVJqtvuNia"
      },
      "source": [
        "##### Task 3:  Create a map where you can explore the selected dataset. Try to plot the map using some  categorical attribute. Include a ToolTip."
      ]
    },
    {
      "cell_type": "code",
      "execution_count": null,
      "metadata": {
        "colab": {
          "background_save": true
        },
        "id": "8kYlbKfUug6M"
      },
      "outputs": [],
      "source": [
        "data.explore(column='local_auth', cmap='RdYlBu', tooltip=[\"current_us\"])\n",
        "#this explore the data. It assigns a different color to each local authority. When you hover over each section it tells you its current use."
      ]
    },
    {
      "cell_type": "markdown",
      "metadata": {
        "id": "0qkUpFn4xcsr"
      },
      "source": [
        "##### Task 4: What is the Coordinate Reference System of the selected dataset?"
      ]
    },
    {
      "cell_type": "code",
      "execution_count": null,
      "metadata": {
        "colab": {
          "base_uri": "https://localhost:8080/"
        },
        "id": "SrrCSQ6Rxk7w",
        "outputId": "7cdad534-ff3f-4c78-f014-e61747508460"
      },
      "outputs": [
        {
          "data": {
            "text/plain": [
              "<Projected CRS: EPSG:27700>\n",
              "Name: OSGB36 / British National Grid\n",
              "Axis Info [cartesian]:\n",
              "- E[east]: Easting (metre)\n",
              "- N[north]: Northing (metre)\n",
              "Area of Use:\n",
              "- name: United Kingdom (UK) - offshore to boundary of UKCS within 49°45'N to 61°N and 9°W to 2°E; onshore Great Britain (England, Wales and Scotland). Isle of Man onshore.\n",
              "- bounds: (-9.01, 49.75, 2.01, 61.01)\n",
              "Coordinate Operation:\n",
              "- name: British National Grid\n",
              "- method: Transverse Mercator\n",
              "Datum: Ordnance Survey of Great Britain 1936\n",
              "- Ellipsoid: Airy 1830\n",
              "- Prime Meridian: Greenwich"
            ]
          },
          "execution_count": 22,
          "metadata": {},
          "output_type": "execute_result"
        }
      ],
      "source": [
        "data.crs\n",
        "#this tells you the coordinate reference system\n",
        "#The coordinate reference system is the British National Grid"
      ]
    },
    {
      "cell_type": "markdown",
      "metadata": {
        "id": "98UAVaTzx8-v"
      },
      "source": [
        "#### Task 5: How many features does the selected dataset contain?"
      ]
    },
    {
      "cell_type": "code",
      "execution_count": 75,
      "metadata": {
        "colab": {
          "base_uri": "https://localhost:8080/"
        },
        "id": "bbE7w5ixyVQB",
        "outputId": "6625d4aa-38ff-4da5-957b-22e85787d4ce"
      },
      "outputs": [
        {
          "output_type": "execute_result",
          "data": {
            "text/plain": [
              "(490, 26)"
            ]
          },
          "metadata": {},
          "execution_count": 75
        }
      ],
      "source": [
        "data.shape #this shows the number of features in the dataset. There are 490 rows and 26 columns"
      ]
    },
    {
      "cell_type": "markdown",
      "metadata": {
        "id": "7MXUfpmkz576"
      },
      "source": [
        "#### Task 6: Define a sub-setting filter to create a new geopandas dataframe where you filter the selected dataset based on a categorical attribute."
      ]
    },
    {
      "cell_type": "code",
      "execution_count": 88,
      "metadata": {
        "id": "2_ZOpDkt0AKh"
      },
      "outputs": [],
      "source": [
        "Highland = data[data['local_auth']=='Highland'] #this defines 'Highland' as a subset of data located within the highlands\n",
        "Highland"
      ]
    },
    {
      "cell_type": "markdown",
      "metadata": {
        "id": "tStdPj8k1j0P"
      },
      "source": [
        "#### Task 7:  Define a sub-setting filter to create a new geopandas dataframe where you filter the  selected dataset based on a numerical attribute."
      ]
    },
    {
      "cell_type": "code",
      "execution_count": null,
      "metadata": {
        "id": "N2xMpBAW1rTw"
      },
      "outputs": [],
      "source": [
        "large = data[data['Shape_Area']>=2000000] #this defines 'large' as a subset of peatbogs that are greater than or equal to 2000000 in area\n",
        "large"
      ]
    },
    {
      "cell_type": "markdown",
      "metadata": {
        "id": "rqcFBvT94PQU"
      },
      "source": [
        "#### Task 8: Plot the new/filtered geopandas dataframe using one of the attributes to create a  choropleth map."
      ]
    },
    {
      "cell_type": "code",
      "source": [
        "large.plot(column='local_auth', cmap='RdYlBu')\n",
        "#this makes a chloropleth map that shows the 'large' peatbogs colored by local authority. While this is not particularly helpful given the small size of the peatbogs, this code can be used for different datasets."
      ],
      "metadata": {
        "colab": {
          "base_uri": "https://localhost:8080/",
          "height": 693
        },
        "id": "xegPai5u7-2q",
        "outputId": "8060c299-6c03-4969-f933-ad2dfd147d49"
      },
      "execution_count": 87,
      "outputs": [
        {
          "output_type": "execute_result",
          "data": {
            "text/plain": [
              "<Axes: >"
            ]
          },
          "metadata": {},
          "execution_count": 87
        },
        {
          "output_type": "display_data",
          "data": {
            "text/plain": [
              "<Figure size 1000x800 with 1 Axes>"
            ],
            "image/png": "[encoded data removed]"
          },
          "metadata": {}
        }
      ]
    }
  ],
  "metadata": {
    "colab": {
      "provenance": []
    },
    "kernelspec": {
      "display_name": "Python 3",
      "name": "python3"
    },
    "language_info": {
      "name": "python"
    }
  },
  "nbformat": 4,
  "nbformat_minor": 0
}